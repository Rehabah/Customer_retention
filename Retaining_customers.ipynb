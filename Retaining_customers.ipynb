{
 "cells": [
  {
   "cell_type": "markdown",
   "id": "e585f506",
   "metadata": {},
   "source": [
    "# Retaining Customers"
   ]
  },
  {
   "cell_type": "markdown",
   "id": "2d3f3458",
   "metadata": {},
   "source": [
    "Data reading and discovering"
   ]
  },
  {
   "cell_type": "markdown",
   "id": "ce98b872",
   "metadata": {},
   "source": [
    "Data Exploration to choose the impact features "
   ]
  },
  {
   "cell_type": "markdown",
   "id": "d2f4f747",
   "metadata": {},
   "source": [
    "Prediction Model"
   ]
  },
  {
   "cell_type": "markdown",
   "id": "181abb43",
   "metadata": {},
   "source": [
    "Model features"
   ]
  },
  {
   "cell_type": "markdown",
   "id": "9e307680",
   "metadata": {},
   "source": [
    "The steps are: "
   ]
  },
  {
   "cell_type": "markdown",
   "id": "785a9ce4",
   "metadata": {},
   "source": [
    "Selecting the Customers "
   ]
  },
  {
   "cell_type": "code",
   "execution_count": 1,
   "id": "c76c2bb7",
   "metadata": {},
   "outputs": [],
   "source": [
    "import pandas as pd\n",
    "df=pd.read_excel(r'')"
   ]
  },
  {
   "cell_type": "code",
   "execution_count": 63,
   "id": "7de809c1",
   "metadata": {},
   "outputs": [],
   "source": [
    "#knowing the unique customers \n",
    "users = pd.DataFrame(df['customer_name'].unique())\n",
    "users.columns = ['customer_name']\n",
    "users.head()"
   ]
  },
  {
   "cell_type": "markdown",
   "id": "7c4b168c",
   "metadata": {},
   "source": [
    "how long the customers' accounts have been active"
   ]
  },
  {
   "cell_type": "code",
   "execution_count": 64,
   "id": "79f63c1d",
   "metadata": {},
   "outputs": [],
   "source": [
    "#last active transaction \n",
    "max_purchase_date = df.groupby('customer_name').purchase_date.max().reset_index()\n",
    "max_purchase_date.columns = ['customer_name','max_purchase_date']\n",
    "max_purchase_date.head()"
   ]
  },
  {
   "cell_type": "code",
   "execution_count": 65,
   "id": "78589240",
   "metadata": {},
   "outputs": [],
   "source": [
    "# Compare the last transaction of the dataset with last transaction dates of the individual\n",
    "max_purchase_date['last_active_time'] = (max_purchase_date['max_purchase_date'].max() - max_purchase_date['max_purchase_date']).dt.days\n",
    "max_purchase_date.head()"
   ]
  },
  {
   "cell_type": "code",
   "execution_count": 66,
   "id": "092bc074",
   "metadata": {},
   "outputs": [],
   "source": [
    "#merge this dataframe to customers dataframe\n",
    "users = pd.merge(users, max_purchase_date[['customer_name','last_active_time']], on='customer_name')\n",
    "users.head()"
   ]
  },
  {
   "cell_type": "code",
   "execution_count": 67,
   "id": "28bfc852",
   "metadata": {},
   "outputs": [],
   "source": [
    "users.boxplot('last_active_time')"
   ]
  },
  {
   "cell_type": "code",
   "execution_count": 20,
   "id": "bad1e219",
   "metadata": {},
   "outputs": [],
   "source": [
    "from matplotlib import pyplot as plt\n",
    "\n",
    "def cluster(x):    \n",
    "    #clustering customers based on value\n",
    "    from sklearn.cluster import KMeans\n",
    "\n",
    "    sse={} # error\n",
    "    df =x\n",
    "    print(df)\n",
    "    for k in range(1, 5): #you can change the range \n",
    "        kmeans = KMeans(n_clusters=k, max_iter=1000).fit(df)\n",
    "        df[\"clusters\"] = kmeans.labels_  #cluster names \n",
    "        print(df[\"clusters\"])\n",
    "        sse[k] = kmeans.inertia_ #sse corresponding to clusters\n",
    "    plt.figure()\n",
    "    plt.plot(list(sse.keys()), list(sse.values()))\n",
    "    plt.xlabel(\"Number of cluster\")\n",
    "    plt.show()"
   ]
  },
  {
   "cell_type": "code",
   "execution_count": 68,
   "id": "22b2c5a7",
   "metadata": {},
   "outputs": [],
   "source": [
    "cluster(users[['last_active_time']])"
   ]
  },
  {
   "cell_type": "code",
   "execution_count": 69,
   "id": "5b577acb",
   "metadata": {},
   "outputs": [],
   "source": [
    "from sklearn.cluster import KMeans\n",
    "#building the clusters  and adding it to dataframe\n",
    "kmeans = KMeans(n_clusters=4)  # you can change the number of clusters basd on your data \n",
    "users['last_active_time_Cluster'] = kmeans.fit_predict(users[['last_active_time']])\n",
    "users.groupby('last_active_time_Cluster')['last_active_time'].describe()"
   ]
  },
  {
   "cell_type": "markdown",
   "id": "a4f0fc9d",
   "metadata": {},
   "source": [
    "number of times the customers use the services"
   ]
  },
  {
   "cell_type": "code",
   "execution_count": 70,
   "id": "6c5afd33",
   "metadata": {},
   "outputs": [],
   "source": [
    "frequency = df.groupby('customer_name').purchase_date.count().reset_index()\n",
    "frequency.columns = ['customer_name','Frequency']\n",
    "frequency"
   ]
  },
  {
   "cell_type": "code",
   "execution_count": 71,
   "id": "781ac5f5",
   "metadata": {},
   "outputs": [],
   "source": [
    "frequency['Frequency'].unique()"
   ]
  },
  {
   "cell_type": "code",
   "execution_count": 72,
   "id": "f2d7e320",
   "metadata": {},
   "outputs": [],
   "source": [
    "#you can classify it based on your data\n",
    "#you have to change value based on your data\n",
    "frequency['class']=1\n",
    "#frequency.loc[frequency['Frequency']<value, 'class']=1\n",
    "frequency.loc[(frequency['Frequency']<value) , 'class']=2\n",
    "frequency.loc[frequency['Frequency']>=value, 'class']=3"
   ]
  },
  {
   "cell_type": "code",
   "execution_count": 73,
   "id": "82ca06f7",
   "metadata": {},
   "outputs": [],
   "source": [
    "users.columns"
   ]
  },
  {
   "cell_type": "code",
   "execution_count": 74,
   "id": "fcc7933a",
   "metadata": {},
   "outputs": [],
   "source": [
    "#merge this dataframe to custoners dataframe\n",
    "users = pd.merge(users, frequency, on='customer_name')\n",
    "users.head()"
   ]
  },
  {
   "cell_type": "code",
   "execution_count": 75,
   "id": "14c3ce5a",
   "metadata": {},
   "outputs": [],
   "source": [
    "users.boxplot('Frequency')"
   ]
  },
  {
   "cell_type": "code",
   "execution_count": 76,
   "id": "d6706acc",
   "metadata": {},
   "outputs": [],
   "source": [
    "users['Frequency_Cluster']=users['class']"
   ]
  },
  {
   "cell_type": "code",
   "execution_count": 77,
   "id": "95153b7f",
   "metadata": {},
   "outputs": [],
   "source": [
    "cluster(users[['Frequency']])"
   ]
  },
  {
   "cell_type": "code",
   "execution_count": 78,
   "id": "5a8c213f",
   "metadata": {},
   "outputs": [],
   "source": [
    "#building the clusters for frequency\n",
    "kmeans = KMeans(n_clusters=4) # you can change the number of clusters basd on your data \n",
    "users['Frequency_Cluster'] = kmeans.fit_predict(users[['Frequency']])\n",
    "users"
   ]
  },
  {
   "cell_type": "code",
   "execution_count": 79,
   "id": "36df3e39",
   "metadata": {},
   "outputs": [],
   "source": [
    "users.groupby('Frequency_Cluster')['Frequency'].describe()"
   ]
  },
  {
   "cell_type": "markdown",
   "id": "58f1a814",
   "metadata": {},
   "source": [
    "total amount of paymnet for the customers "
   ]
  },
  {
   "cell_type": "code",
   "execution_count": 80,
   "id": "9e54b5cf",
   "metadata": {},
   "outputs": [],
   "source": [
    "total_paymnet = df.groupby('customer_name').billing.sum().reset_index()\n",
    "total_paymnet"
   ]
  },
  {
   "cell_type": "code",
   "execution_count": 81,
   "id": "dfc58c1a",
   "metadata": {},
   "outputs": [],
   "source": [
    "users = pd.merge(users, total_paymnet, on='customer_name')\n",
    "users.head()"
   ]
  },
  {
   "cell_type": "code",
   "execution_count": 82,
   "id": "35bac644",
   "metadata": {},
   "outputs": [],
   "source": [
    "users.boxplot('billing')"
   ]
  },
  {
   "cell_type": "code",
   "execution_count": 83,
   "id": "71bca1e4",
   "metadata": {},
   "outputs": [],
   "source": [
    "cluster(users[['billing']])"
   ]
  },
  {
   "cell_type": "code",
   "execution_count": 84,
   "id": "ce1a995b",
   "metadata": {},
   "outputs": [],
   "source": [
    "#building the clusters \n",
    "kmeans = KMeans(n_clusters=3) # you can change the number of clusters basd on your data \n",
    "users['billing_Cluster'] = kmeans.fit_predict(users[['billing']])\n",
    "users"
   ]
  },
  {
   "cell_type": "code",
   "execution_count": 85,
   "id": "aeb0786c",
   "metadata": {},
   "outputs": [],
   "source": [
    "users.groupby('billing_Cluster')['billing'].describe()"
   ]
  },
  {
   "cell_type": "markdown",
   "id": "9ddd84e3",
   "metadata": {},
   "source": [
    "customers' account  age"
   ]
  },
  {
   "cell_type": "code",
   "execution_count": 86,
   "id": "fb26a5b8",
   "metadata": {},
   "outputs": [],
   "source": [
    "#AccountLength  (how long account has been active)\n",
    "account_age = df.groupby('customer_name').created_date.max().reset_index()\n",
    "account_age.columns = ['customer_name','created_date']\n",
    "account_age.head()"
   ]
  },
  {
   "cell_type": "code",
   "execution_count": 87,
   "id": "4266d5a6",
   "metadata": {},
   "outputs": [],
   "source": [
    "#computing the age \n",
    "account_age['account_lenght'] = (account_age['created_date'].max() - account_age['created_date']).dt.days\n",
    "account_age.head()"
   ]
  },
  {
   "cell_type": "code",
   "execution_count": 88,
   "id": "eb057994",
   "metadata": {},
   "outputs": [],
   "source": [
    "#merge this dataframe to customers dataframe\n",
    "users = pd.merge(users, account_age[['customer_name','account_lenght']], on='customer_name')\n",
    "users.head()"
   ]
  },
  {
   "cell_type": "code",
   "execution_count": 89,
   "id": "c81814ce",
   "metadata": {},
   "outputs": [],
   "source": [
    "users.boxplot('account_lenght')"
   ]
  },
  {
   "cell_type": "code",
   "execution_count": 90,
   "id": "01654fd6",
   "metadata": {},
   "outputs": [],
   "source": [
    "cluster(users[['account_lenght']])"
   ]
  },
  {
   "cell_type": "code",
   "execution_count": 91,
   "id": "b270a9bf",
   "metadata": {},
   "outputs": [],
   "source": [
    "#building the clusters  and adding it to dataframe\n",
    "kmeans = KMeans(n_clusters=4)  # you can change the number of clusters basd on your data \n",
    "users['account_lenght_Cluster'] = kmeans.fit_predict(users[['account_lenght']])\n",
    "users.groupby('account_lenght_Cluster')['account_lenght'].describe()"
   ]
  },
  {
   "cell_type": "code",
   "execution_count": null,
   "id": "4c44f541",
   "metadata": {},
   "outputs": [],
   "source": []
  },
  {
   "cell_type": "markdown",
   "id": "fdf8c67e",
   "metadata": {},
   "source": [
    "Final Score"
   ]
  },
  {
   "cell_type": "code",
   "execution_count": 92,
   "id": "b148c55a",
   "metadata": {},
   "outputs": [],
   "source": [
    "#final score\n",
    "#calculate overall score and use mean() to see details\n",
    "users['OverallScore'] = users['last_active_time_Cluster'] + users['Frequency_Cluster'] + users['billing_Cluster']+users['account_lenght_Cluster']\n",
    "users.groupby('OverallScore')['last_active_time','account_lenght','Frequency','billing'].mean().reset_index()"
   ]
  },
  {
   "cell_type": "code",
   "execution_count": 93,
   "id": "bcfeb004",
   "metadata": {},
   "outputs": [],
   "source": [
    "users['OverallScore'].unique()"
   ]
  },
  {
   "cell_type": "code",
   "execution_count": 94,
   "id": "6dda5dfa",
   "metadata": {},
   "outputs": [],
   "source": [
    "#segementation \n",
    "#you have to change value based on your data\n",
    "users['Segment'] = 'Low'\n",
    "# users.loc[users['OverallScore']> value,'Segment'] = 'Low' \n",
    "users.loc[(users['OverallScore']>=3 ) ,'Segment'] = 'Medium' \n",
    "users.loc[users['OverallScore']==8,'Segment'] = 'High' "
   ]
  },
  {
   "cell_type": "markdown",
   "id": "e258140a",
   "metadata": {},
   "source": [
    "################################################################"
   ]
  },
  {
   "cell_type": "markdown",
   "id": "ec672fb1",
   "metadata": {},
   "source": [
    "Prediction"
   ]
  },
  {
   "cell_type": "code",
   "execution_count": 54,
   "id": "a7129040",
   "metadata": {},
   "outputs": [],
   "source": [
    "import pandas as pd \n",
    "import numpy as np\n",
    "# import matplotlib as plt\n",
    "import seaborn as sns\n",
    "import matplotlib.pyplot as plt\n",
    "import re\n",
    "from sklearn.model_selection import train_test_split\n",
    "from sklearn import metrics\n",
    "from sklearn.metrics import classification_report, confusion_matrix\n",
    "from sklearn.metrics import accuracy_score\n",
    "from sklearn.model_selection import cross_val_score\n",
    "from sklearn.metrics import precision_recall_curve\n",
    "from sklearn.metrics import average_precision_score\n",
    "from sklearn.metrics import roc_curve, roc_auc_score, auc\n",
    "from sklearn.ensemble import RandomForestClassifier\n",
    "from sklearn.model_selection import RandomizedSearchCV\n",
    "from sklearn.model_selection import GridSearchCV\n",
    "from scipy.stats import randint\n",
    "from sklearn.ensemble import ExtraTreesClassifier\n",
    "from sklearn.tree import export_graphviz\n",
    "from sklearn.ensemble import GradientBoostingClassifier\n",
    "from sklearn.feature_selection import RFE\n",
    "from sklearn.feature_selection import mutual_info_classif"
   ]
  },
  {
   "cell_type": "code",
   "execution_count": 56,
   "id": "c6d15f81",
   "metadata": {},
   "outputs": [],
   "source": [
    "df_1=users[['account_lenght','Frequency','billing', 'OverallScore']]"
   ]
  },
  {
   "cell_type": "markdown",
   "id": "c58a3e5b",
   "metadata": {},
   "source": [
    "Features Importance"
   ]
  },
  {
   "cell_type": "code",
   "execution_count": 95,
   "id": "2be9b7d7",
   "metadata": {},
   "outputs": [],
   "source": [
    "dfCorr = df_1.corr()\n",
    "filteredDf = dfCorr[((dfCorr >= .7) & (dfCorr != 1)) ]\n",
    "plt.figure(figsize=(30,10))\n",
    "sns.heatmap(filteredDf, annot=True, cmap=\"Reds\")\n",
    "plt.show()"
   ]
  },
  {
   "cell_type": "code",
   "execution_count": 96,
   "id": "1ce91bff",
   "metadata": {},
   "outputs": [],
   "source": [
    "X = df_1.iloc[:,0:3]  #independent columns\n",
    "y = df_1.iloc[:,-1]    #target column \n",
    "from sklearn.ensemble import ExtraTreesClassifier\n",
    "model = ExtraTreesClassifier()\n",
    "model.fit(X,y)\n",
    "print(model.feature_importances_)\n",
    "#plot graph of feature importances \n",
    "feat_importances = pd.Series(model.feature_importances_, index=X.columns)\n",
    "feat_importances.nlargest(24).plot(kind='barh')\n",
    "plt.figure(figsize=(80,90))\n",
    "plt.show()"
   ]
  },
  {
   "cell_type": "code",
   "execution_count": 59,
   "id": "33f8f590",
   "metadata": {},
   "outputs": [],
   "source": [
    "#splitting the data (to use it on the building the model)\n",
    "y=df_1['OverallScore']\n",
    "x=df_1.drop('OverallScore',axis=1)\n",
    "x_train,x_test,y_train,y_test=train_test_split(x,y,test_size=0.3)"
   ]
  },
  {
   "cell_type": "markdown",
   "id": "849e5b42",
   "metadata": {},
   "source": [
    "Gradient Boosting Classifier"
   ]
  },
  {
   "cell_type": "code",
   "execution_count": 97,
   "id": "4b7693ad",
   "metadata": {},
   "outputs": [],
   "source": [
    "rf = GradientBoostingClassifier(n_estimators=100)\n",
    "rf.fit(x_train, y_train)\n",
    "train_pred = rf.predict(x_train)\n",
    "print('train',train_pred)     \n",
    "y_pred = rf.predict(x_test)\n",
    "print('test',y_pred)"
   ]
  },
  {
   "cell_type": "code",
   "execution_count": 98,
   "id": "6673a6f9",
   "metadata": {},
   "outputs": [],
   "source": [
    "rf.fit(x_train,y_train)"
   ]
  },
  {
   "cell_type": "code",
   "execution_count": 99,
   "id": "48d74b8e",
   "metadata": {},
   "outputs": [],
   "source": [
    "cm = confusion_matrix(y_test, y_pred)\n",
    "sns.heatmap(cm, square=True, annot=True, fmt='d', cbar=False)\n",
    "plt.xlabel('true label')\n",
    "plt.ylabel('predicted label')"
   ]
  },
  {
   "cell_type": "code",
   "execution_count": null,
   "id": "421902f0",
   "metadata": {},
   "outputs": [],
   "source": []
  },
  {
   "cell_type": "code",
   "execution_count": null,
   "id": "5be3186f",
   "metadata": {},
   "outputs": [],
   "source": []
  },
  {
   "cell_type": "code",
   "execution_count": null,
   "id": "abe2ad01",
   "metadata": {},
   "outputs": [],
   "source": []
  }
 ],
 "metadata": {
  "kernelspec": {
   "display_name": "Python 3 (ipykernel)",
   "language": "python",
   "name": "python3"
  },
  "language_info": {
   "codemirror_mode": {
    "name": "ipython",
    "version": 3
   },
   "file_extension": ".py",
   "mimetype": "text/x-python",
   "name": "python",
   "nbconvert_exporter": "python",
   "pygments_lexer": "ipython3",
   "version": "3.9.12"
  }
 },
 "nbformat": 4,
 "nbformat_minor": 5
}
