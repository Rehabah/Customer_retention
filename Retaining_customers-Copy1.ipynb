{
 "cells": [
  {
   "cell_type": "markdown",
   "id": "e585f506",
   "metadata": {},
   "source": [
    "# Retaining Customers_copy"
   ]
  },
  {
   "cell_type": "markdown",
   "id": "2d3f3458",
   "metadata": {},
   "source": [
    "Data reading and discovering"
   ]
  },
  {
   "cell_type": "markdown",
   "id": "ce98b872",
   "metadata": {},
   "source": [
    "Data Exploration to choose the impact features "
   ]
  },
  {
   "cell_type": "markdown",
   "id": "d2f4f747",
   "metadata": {},
   "source": [
    "Prediction Model"
   ]
  },
  {
   "cell_type": "markdown",
   "id": "181abb43",
   "metadata": {},
   "source": [
    "Model features"
   ]
  },
  {
   "cell_type": "markdown",
   "id": "9e307680",
   "metadata": {},
   "source": [
    "The steps are: "
   ]
  },
  {
   "cell_type": "markdown",
   "id": "785a9ce4",
   "metadata": {},
   "source": [
    "Selecting the Customers "
   ]
  },
  {
   "cell_type": "code",
   "execution_count": 110,
   "id": "62b26c01",
   "metadata": {},
   "outputs": [],
   "source": [
    "import pandas as pd\n",
    "from sklearn.cluster import KMeans"
   ]
  },
  {
   "cell_type": "code",
   "execution_count": 224,
   "id": "c76c2bb7",
   "metadata": {},
   "outputs": [],
   "source": [
    "df=pd.read_excel(r'C:\\Users\\r.alghamdi\\Desktop\\try.xlsx')"
   ]
  },
  {
   "cell_type": "code",
   "execution_count": 225,
   "id": "f39b9a01",
   "metadata": {},
   "outputs": [
    {
     "data": {
      "text/plain": [
       "Index(['customer_name', 'purchase_date', 'billing', 'created_date'], dtype='object')"
      ]
     },
     "execution_count": 225,
     "metadata": {},
     "output_type": "execute_result"
    }
   ],
   "source": [
    "df.columns"
   ]
  },
  {
   "cell_type": "code",
   "execution_count": 226,
   "id": "ee9212e3",
   "metadata": {},
   "outputs": [
    {
     "data": {
      "text/html": [
       "<div>\n",
       "<style scoped>\n",
       "    .dataframe tbody tr th:only-of-type {\n",
       "        vertical-align: middle;\n",
       "    }\n",
       "\n",
       "    .dataframe tbody tr th {\n",
       "        vertical-align: top;\n",
       "    }\n",
       "\n",
       "    .dataframe thead th {\n",
       "        text-align: right;\n",
       "    }\n",
       "</style>\n",
       "<table border=\"1\" class=\"dataframe\">\n",
       "  <thead>\n",
       "    <tr style=\"text-align: right;\">\n",
       "      <th></th>\n",
       "      <th>customer_name</th>\n",
       "      <th>purchase_date</th>\n",
       "      <th>billing</th>\n",
       "      <th>created_date</th>\n",
       "    </tr>\n",
       "  </thead>\n",
       "  <tbody>\n",
       "    <tr>\n",
       "      <th>0</th>\n",
       "      <td>a</td>\n",
       "      <td>16-11-2022</td>\n",
       "      <td>4</td>\n",
       "      <td>16-11-2022</td>\n",
       "    </tr>\n",
       "    <tr>\n",
       "      <th>1</th>\n",
       "      <td>b</td>\n",
       "      <td>15-11-2022</td>\n",
       "      <td>5</td>\n",
       "      <td>15-11-2022</td>\n",
       "    </tr>\n",
       "    <tr>\n",
       "      <th>2</th>\n",
       "      <td>c</td>\n",
       "      <td>13-11-2022</td>\n",
       "      <td>3</td>\n",
       "      <td>14-11-2022</td>\n",
       "    </tr>\n",
       "    <tr>\n",
       "      <th>3</th>\n",
       "      <td>a</td>\n",
       "      <td>18-11-2022</td>\n",
       "      <td>5</td>\n",
       "      <td>2022-01-11 00:00:00</td>\n",
       "    </tr>\n",
       "    <tr>\n",
       "      <th>4</th>\n",
       "      <td>b</td>\n",
       "      <td>2022-10-11 00:00:00</td>\n",
       "      <td>6</td>\n",
       "      <td>15-11-2022</td>\n",
       "    </tr>\n",
       "  </tbody>\n",
       "</table>\n",
       "</div>"
      ],
      "text/plain": [
       "  customer_name        purchase_date  billing         created_date\n",
       "0             a           16-11-2022        4           16-11-2022\n",
       "1             b           15-11-2022        5           15-11-2022\n",
       "2             c           13-11-2022        3           14-11-2022\n",
       "3             a           18-11-2022        5  2022-01-11 00:00:00\n",
       "4             b  2022-10-11 00:00:00        6           15-11-2022"
      ]
     },
     "execution_count": 226,
     "metadata": {},
     "output_type": "execute_result"
    }
   ],
   "source": [
    "df"
   ]
  },
  {
   "cell_type": "code",
   "execution_count": 227,
   "id": "dfbae504",
   "metadata": {},
   "outputs": [],
   "source": [
    "df['purchase_date']=df['purchase_date'].astype(str)"
   ]
  },
  {
   "cell_type": "code",
   "execution_count": 228,
   "id": "104cef6b",
   "metadata": {},
   "outputs": [
    {
     "name": "stderr",
     "output_type": "stream",
     "text": [
      "C:\\Users\\r.alghamdi\\Anaconda3\\lib\\site-packages\\pandas\\core\\apply.py:1137: UserWarning: Parsing '16-11-2022' in DD/MM/YYYY format. Provide format or specify infer_datetime_format=True for consistent parsing.\n",
      "  mapped = lib.map_infer(\n",
      "C:\\Users\\r.alghamdi\\Anaconda3\\lib\\site-packages\\pandas\\core\\apply.py:1137: UserWarning: Parsing '15-11-2022' in DD/MM/YYYY format. Provide format or specify infer_datetime_format=True for consistent parsing.\n",
      "  mapped = lib.map_infer(\n",
      "C:\\Users\\r.alghamdi\\Anaconda3\\lib\\site-packages\\pandas\\core\\apply.py:1137: UserWarning: Parsing '13-11-2022' in DD/MM/YYYY format. Provide format or specify infer_datetime_format=True for consistent parsing.\n",
      "  mapped = lib.map_infer(\n",
      "C:\\Users\\r.alghamdi\\Anaconda3\\lib\\site-packages\\pandas\\core\\apply.py:1137: UserWarning: Parsing '18-11-2022' in DD/MM/YYYY format. Provide format or specify infer_datetime_format=True for consistent parsing.\n",
      "  mapped = lib.map_infer(\n"
     ]
    },
    {
     "data": {
      "text/html": [
       "<div>\n",
       "<style scoped>\n",
       "    .dataframe tbody tr th:only-of-type {\n",
       "        vertical-align: middle;\n",
       "    }\n",
       "\n",
       "    .dataframe tbody tr th {\n",
       "        vertical-align: top;\n",
       "    }\n",
       "\n",
       "    .dataframe thead th {\n",
       "        text-align: right;\n",
       "    }\n",
       "</style>\n",
       "<table border=\"1\" class=\"dataframe\">\n",
       "  <thead>\n",
       "    <tr style=\"text-align: right;\">\n",
       "      <th></th>\n",
       "      <th>customer_name</th>\n",
       "      <th>purchase_date</th>\n",
       "      <th>last_active_time</th>\n",
       "    </tr>\n",
       "  </thead>\n",
       "  <tbody>\n",
       "    <tr>\n",
       "      <th>0</th>\n",
       "      <td>a</td>\n",
       "      <td>18-11-2022</td>\n",
       "      <td>2</td>\n",
       "    </tr>\n",
       "    <tr>\n",
       "      <th>1</th>\n",
       "      <td>b</td>\n",
       "      <td>2022-10-11 00:00:00</td>\n",
       "      <td>3</td>\n",
       "    </tr>\n",
       "    <tr>\n",
       "      <th>2</th>\n",
       "      <td>c</td>\n",
       "      <td>13-11-2022</td>\n",
       "      <td>5</td>\n",
       "    </tr>\n",
       "  </tbody>\n",
       "</table>\n",
       "</div>"
      ],
      "text/plain": [
       "  customer_name        purchase_date  last_active_time\n",
       "0             a           18-11-2022                 2\n",
       "1             b  2022-10-11 00:00:00                 3\n",
       "2             c           13-11-2022                 5"
      ]
     },
     "execution_count": 228,
     "metadata": {},
     "output_type": "execute_result"
    }
   ],
   "source": [
    "#the last active time of the user \n",
    "\n",
    "last_active_time = df.groupby(['customer_name'])['purchase_date'].max().reset_index()\n",
    "\n",
    "df['purchase_date'] = df['purchase_date'].apply(pd.to_datetime).dt.date\n",
    "\n",
    "last_active_time['last_active_time']=(df['purchase_date'].max() - df['purchase_date']).dt.days#.reset_index()#.rename()\n",
    "last_active_time\n"
   ]
  },
  {
   "cell_type": "code",
   "execution_count": 229,
   "id": "e311f0a0",
   "metadata": {},
   "outputs": [
    {
     "name": "stderr",
     "output_type": "stream",
     "text": [
      "C:\\Users\\r.alghamdi\\Anaconda3\\lib\\site-packages\\pandas\\core\\apply.py:1137: UserWarning: Parsing '16-11-2022' in DD/MM/YYYY format. Provide format or specify infer_datetime_format=True for consistent parsing.\n",
      "  mapped = lib.map_infer(\n",
      "C:\\Users\\r.alghamdi\\Anaconda3\\lib\\site-packages\\pandas\\core\\apply.py:1137: UserWarning: Parsing '15-11-2022' in DD/MM/YYYY format. Provide format or specify infer_datetime_format=True for consistent parsing.\n",
      "  mapped = lib.map_infer(\n",
      "C:\\Users\\r.alghamdi\\Anaconda3\\lib\\site-packages\\pandas\\core\\apply.py:1137: UserWarning: Parsing '14-11-2022' in DD/MM/YYYY format. Provide format or specify infer_datetime_format=True for consistent parsing.\n",
      "  mapped = lib.map_infer(\n"
     ]
    },
    {
     "data": {
      "text/html": [
       "<div>\n",
       "<style scoped>\n",
       "    .dataframe tbody tr th:only-of-type {\n",
       "        vertical-align: middle;\n",
       "    }\n",
       "\n",
       "    .dataframe tbody tr th {\n",
       "        vertical-align: top;\n",
       "    }\n",
       "\n",
       "    .dataframe thead th {\n",
       "        text-align: right;\n",
       "    }\n",
       "</style>\n",
       "<table border=\"1\" class=\"dataframe\">\n",
       "  <thead>\n",
       "    <tr style=\"text-align: right;\">\n",
       "      <th></th>\n",
       "      <th>customer_name</th>\n",
       "      <th>purchase_date</th>\n",
       "      <th>age</th>\n",
       "    </tr>\n",
       "  </thead>\n",
       "  <tbody>\n",
       "    <tr>\n",
       "      <th>0</th>\n",
       "      <td>a</td>\n",
       "      <td>2022-11-18</td>\n",
       "      <td>2</td>\n",
       "    </tr>\n",
       "    <tr>\n",
       "      <th>1</th>\n",
       "      <td>b</td>\n",
       "      <td>2022-11-15</td>\n",
       "      <td>3</td>\n",
       "    </tr>\n",
       "    <tr>\n",
       "      <th>2</th>\n",
       "      <td>c</td>\n",
       "      <td>2022-11-13</td>\n",
       "      <td>4</td>\n",
       "    </tr>\n",
       "  </tbody>\n",
       "</table>\n",
       "</div>"
      ],
      "text/plain": [
       "  customer_name purchase_date  age\n",
       "0             a    2022-11-18    2\n",
       "1             b    2022-11-15    3\n",
       "2             c    2022-11-13    4"
      ]
     },
     "execution_count": 229,
     "metadata": {},
     "output_type": "execute_result"
    }
   ],
   "source": [
    "#account length (age) of the user\n",
    "\n",
    "account_lenght = df.groupby(['customer_name'])['purchase_date'].max().reset_index()\n",
    "\n",
    "df['purchase_date'] = df['purchase_date'].apply(pd.to_datetime)\n",
    "df['created_date'] = df['created_date'].apply(pd.to_datetime)\n",
    "\n",
    "account_lenght['age']=(df['purchase_date'].max() - df['created_date']).dt.days#.reset_index()#.rename()\n",
    "account_lenght"
   ]
  },
  {
   "cell_type": "code",
   "execution_count": 230,
   "id": "60d122d3",
   "metadata": {},
   "outputs": [
    {
     "data": {
      "text/html": [
       "<div>\n",
       "<style scoped>\n",
       "    .dataframe tbody tr th:only-of-type {\n",
       "        vertical-align: middle;\n",
       "    }\n",
       "\n",
       "    .dataframe tbody tr th {\n",
       "        vertical-align: top;\n",
       "    }\n",
       "\n",
       "    .dataframe thead th {\n",
       "        text-align: right;\n",
       "    }\n",
       "</style>\n",
       "<table border=\"1\" class=\"dataframe\">\n",
       "  <thead>\n",
       "    <tr style=\"text-align: right;\">\n",
       "      <th></th>\n",
       "      <th></th>\n",
       "      <th>billing</th>\n",
       "      <th>created_date</th>\n",
       "    </tr>\n",
       "    <tr>\n",
       "      <th>customer_name</th>\n",
       "      <th>purchase_date</th>\n",
       "      <th></th>\n",
       "      <th></th>\n",
       "    </tr>\n",
       "  </thead>\n",
       "  <tbody>\n",
       "    <tr>\n",
       "      <th>a</th>\n",
       "      <th>2022-11-30</th>\n",
       "      <td>2</td>\n",
       "      <td>2</td>\n",
       "    </tr>\n",
       "    <tr>\n",
       "      <th rowspan=\"2\" valign=\"top\">b</th>\n",
       "      <th>2022-10-31</th>\n",
       "      <td>1</td>\n",
       "      <td>1</td>\n",
       "    </tr>\n",
       "    <tr>\n",
       "      <th>2022-11-30</th>\n",
       "      <td>1</td>\n",
       "      <td>1</td>\n",
       "    </tr>\n",
       "    <tr>\n",
       "      <th>c</th>\n",
       "      <th>2022-11-30</th>\n",
       "      <td>1</td>\n",
       "      <td>1</td>\n",
       "    </tr>\n",
       "  </tbody>\n",
       "</table>\n",
       "</div>"
      ],
      "text/plain": [
       "                             billing  created_date\n",
       "customer_name purchase_date                       \n",
       "a             2022-11-30           2             2\n",
       "b             2022-10-31           1             1\n",
       "              2022-11-30           1             1\n",
       "c             2022-11-30           1             1"
      ]
     },
     "execution_count": 230,
     "metadata": {},
     "output_type": "execute_result"
    }
   ],
   "source": [
    "#the frequency of purchasing\n",
    "\n",
    "frequency =df.copy()\n",
    "\n",
    "frequency.set_index('purchase_date', inplace=True)\n",
    "frequency.index = pd.DatetimeIndex(frequency.index)\n",
    "\n",
    "frequency = frequency.groupby(['customer_name',pd.Grouper(freq=\"M\", level='purchase_date')]).count()\n",
    "frequency"
   ]
  },
  {
   "cell_type": "code",
   "execution_count": 231,
   "id": "51013018",
   "metadata": {},
   "outputs": [
    {
     "data": {
      "text/html": [
       "<div>\n",
       "<style scoped>\n",
       "    .dataframe tbody tr th:only-of-type {\n",
       "        vertical-align: middle;\n",
       "    }\n",
       "\n",
       "    .dataframe tbody tr th {\n",
       "        vertical-align: top;\n",
       "    }\n",
       "\n",
       "    .dataframe thead th {\n",
       "        text-align: right;\n",
       "    }\n",
       "</style>\n",
       "<table border=\"1\" class=\"dataframe\">\n",
       "  <thead>\n",
       "    <tr style=\"text-align: right;\">\n",
       "      <th></th>\n",
       "      <th>customer_name</th>\n",
       "      <th>billing_mean</th>\n",
       "    </tr>\n",
       "  </thead>\n",
       "  <tbody>\n",
       "    <tr>\n",
       "      <th>0</th>\n",
       "      <td>a</td>\n",
       "      <td>4.5</td>\n",
       "    </tr>\n",
       "    <tr>\n",
       "      <th>1</th>\n",
       "      <td>b</td>\n",
       "      <td>5.5</td>\n",
       "    </tr>\n",
       "    <tr>\n",
       "      <th>2</th>\n",
       "      <td>c</td>\n",
       "      <td>3.0</td>\n",
       "    </tr>\n",
       "  </tbody>\n",
       "</table>\n",
       "</div>"
      ],
      "text/plain": [
       "  customer_name  billing_mean\n",
       "0             a           4.5\n",
       "1             b           5.5\n",
       "2             c           3.0"
      ]
     },
     "execution_count": 231,
     "metadata": {},
     "output_type": "execute_result"
    }
   ],
   "source": [
    "# the total amout of billing \n",
    "\n",
    "value = df.copy()\n",
    "value.set_index('purchase_date', inplace=True)\n",
    "value.index = pd.DatetimeIndex(value.index)\n",
    "value\n",
    "\n",
    "value = value.groupby('customer_name')['billing'].mean().reset_index().rename(columns={'billing':'billing_mean'})\n",
    "value"
   ]
  },
  {
   "cell_type": "markdown",
   "id": "49f12b4a",
   "metadata": {},
   "source": [
    "#merging the dataframe"
   ]
  },
  {
   "cell_type": "code",
   "execution_count": 232,
   "id": "ab7c008e",
   "metadata": {},
   "outputs": [
    {
     "data": {
      "text/html": [
       "<div>\n",
       "<style scoped>\n",
       "    .dataframe tbody tr th:only-of-type {\n",
       "        vertical-align: middle;\n",
       "    }\n",
       "\n",
       "    .dataframe tbody tr th {\n",
       "        vertical-align: top;\n",
       "    }\n",
       "\n",
       "    .dataframe thead th {\n",
       "        text-align: right;\n",
       "    }\n",
       "</style>\n",
       "<table border=\"1\" class=\"dataframe\">\n",
       "  <thead>\n",
       "    <tr style=\"text-align: right;\">\n",
       "      <th></th>\n",
       "      <th>customer_name</th>\n",
       "      <th>purchase_date</th>\n",
       "      <th>last_active_time</th>\n",
       "      <th>billing</th>\n",
       "      <th>created_date</th>\n",
       "    </tr>\n",
       "  </thead>\n",
       "  <tbody>\n",
       "    <tr>\n",
       "      <th>0</th>\n",
       "      <td>a</td>\n",
       "      <td>18-11-2022</td>\n",
       "      <td>2</td>\n",
       "      <td>2</td>\n",
       "      <td>2</td>\n",
       "    </tr>\n",
       "    <tr>\n",
       "      <th>1</th>\n",
       "      <td>b</td>\n",
       "      <td>2022-10-11 00:00:00</td>\n",
       "      <td>3</td>\n",
       "      <td>1</td>\n",
       "      <td>1</td>\n",
       "    </tr>\n",
       "    <tr>\n",
       "      <th>2</th>\n",
       "      <td>b</td>\n",
       "      <td>2022-10-11 00:00:00</td>\n",
       "      <td>3</td>\n",
       "      <td>1</td>\n",
       "      <td>1</td>\n",
       "    </tr>\n",
       "    <tr>\n",
       "      <th>3</th>\n",
       "      <td>c</td>\n",
       "      <td>13-11-2022</td>\n",
       "      <td>5</td>\n",
       "      <td>1</td>\n",
       "      <td>1</td>\n",
       "    </tr>\n",
       "  </tbody>\n",
       "</table>\n",
       "</div>"
      ],
      "text/plain": [
       "  customer_name        purchase_date  last_active_time  billing  created_date\n",
       "0             a           18-11-2022                 2        2             2\n",
       "1             b  2022-10-11 00:00:00                 3        1             1\n",
       "2             b  2022-10-11 00:00:00                 3        1             1\n",
       "3             c           13-11-2022                 5        1             1"
      ]
     },
     "execution_count": 232,
     "metadata": {},
     "output_type": "execute_result"
    }
   ],
   "source": [
    "df1=last_active_time.merge(frequency, on='customer_name',how='outer')#.merge(on='customer_name').merge(value, on='customer_name',how='outer')\n",
    "df1"
   ]
  },
  {
   "cell_type": "code",
   "execution_count": 233,
   "id": "da79cc62",
   "metadata": {},
   "outputs": [
    {
     "data": {
      "text/html": [
       "<div>\n",
       "<style scoped>\n",
       "    .dataframe tbody tr th:only-of-type {\n",
       "        vertical-align: middle;\n",
       "    }\n",
       "\n",
       "    .dataframe tbody tr th {\n",
       "        vertical-align: top;\n",
       "    }\n",
       "\n",
       "    .dataframe thead th {\n",
       "        text-align: right;\n",
       "    }\n",
       "</style>\n",
       "<table border=\"1\" class=\"dataframe\">\n",
       "  <thead>\n",
       "    <tr style=\"text-align: right;\">\n",
       "      <th></th>\n",
       "      <th>customer_name</th>\n",
       "      <th>purchase_date</th>\n",
       "      <th>last_active_time</th>\n",
       "      <th>frequency</th>\n",
       "      <th>created_date</th>\n",
       "      <th>billing_mean</th>\n",
       "    </tr>\n",
       "  </thead>\n",
       "  <tbody>\n",
       "    <tr>\n",
       "      <th>0</th>\n",
       "      <td>a</td>\n",
       "      <td>18-11-2022</td>\n",
       "      <td>2</td>\n",
       "      <td>2</td>\n",
       "      <td>2</td>\n",
       "      <td>4.5</td>\n",
       "    </tr>\n",
       "    <tr>\n",
       "      <th>1</th>\n",
       "      <td>b</td>\n",
       "      <td>2022-10-11 00:00:00</td>\n",
       "      <td>3</td>\n",
       "      <td>1</td>\n",
       "      <td>1</td>\n",
       "      <td>5.5</td>\n",
       "    </tr>\n",
       "    <tr>\n",
       "      <th>2</th>\n",
       "      <td>b</td>\n",
       "      <td>2022-10-11 00:00:00</td>\n",
       "      <td>3</td>\n",
       "      <td>1</td>\n",
       "      <td>1</td>\n",
       "      <td>5.5</td>\n",
       "    </tr>\n",
       "    <tr>\n",
       "      <th>3</th>\n",
       "      <td>c</td>\n",
       "      <td>13-11-2022</td>\n",
       "      <td>5</td>\n",
       "      <td>1</td>\n",
       "      <td>1</td>\n",
       "      <td>3.0</td>\n",
       "    </tr>\n",
       "  </tbody>\n",
       "</table>\n",
       "</div>"
      ],
      "text/plain": [
       "  customer_name        purchase_date  last_active_time  frequency  \\\n",
       "0             a           18-11-2022                 2          2   \n",
       "1             b  2022-10-11 00:00:00                 3          1   \n",
       "2             b  2022-10-11 00:00:00                 3          1   \n",
       "3             c           13-11-2022                 5          1   \n",
       "\n",
       "   created_date  billing_mean  \n",
       "0             2           4.5  \n",
       "1             1           5.5  \n",
       "2             1           5.5  \n",
       "3             1           3.0  "
      ]
     },
     "execution_count": 233,
     "metadata": {},
     "output_type": "execute_result"
    }
   ],
   "source": [
    "df_f=df1.merge(value, on='customer_name',how='outer')\n",
    "df_f=df_f.rename(columns={'billing':'frequency'})\n",
    "df_f"
   ]
  },
  {
   "cell_type": "code",
   "execution_count": 234,
   "id": "c55b2d30",
   "metadata": {},
   "outputs": [],
   "source": [
    "df_f=df_f.drop(columns='purchase_date')"
   ]
  },
  {
   "cell_type": "code",
   "execution_count": 235,
   "id": "fd1c18b5",
   "metadata": {},
   "outputs": [
    {
     "data": {
      "text/html": [
       "<div>\n",
       "<style scoped>\n",
       "    .dataframe tbody tr th:only-of-type {\n",
       "        vertical-align: middle;\n",
       "    }\n",
       "\n",
       "    .dataframe tbody tr th {\n",
       "        vertical-align: top;\n",
       "    }\n",
       "\n",
       "    .dataframe thead th {\n",
       "        text-align: right;\n",
       "    }\n",
       "</style>\n",
       "<table border=\"1\" class=\"dataframe\">\n",
       "  <thead>\n",
       "    <tr style=\"text-align: right;\">\n",
       "      <th></th>\n",
       "      <th>customer_name</th>\n",
       "      <th>last_active_time</th>\n",
       "      <th>frequency</th>\n",
       "      <th>created_date</th>\n",
       "      <th>billing_mean</th>\n",
       "      <th>purchase_date</th>\n",
       "      <th>age</th>\n",
       "    </tr>\n",
       "  </thead>\n",
       "  <tbody>\n",
       "    <tr>\n",
       "      <th>0</th>\n",
       "      <td>a</td>\n",
       "      <td>2</td>\n",
       "      <td>2</td>\n",
       "      <td>2</td>\n",
       "      <td>4.5</td>\n",
       "      <td>2022-11-18</td>\n",
       "      <td>2</td>\n",
       "    </tr>\n",
       "    <tr>\n",
       "      <th>1</th>\n",
       "      <td>b</td>\n",
       "      <td>3</td>\n",
       "      <td>1</td>\n",
       "      <td>1</td>\n",
       "      <td>5.5</td>\n",
       "      <td>2022-11-15</td>\n",
       "      <td>3</td>\n",
       "    </tr>\n",
       "    <tr>\n",
       "      <th>2</th>\n",
       "      <td>b</td>\n",
       "      <td>3</td>\n",
       "      <td>1</td>\n",
       "      <td>1</td>\n",
       "      <td>5.5</td>\n",
       "      <td>2022-11-15</td>\n",
       "      <td>3</td>\n",
       "    </tr>\n",
       "    <tr>\n",
       "      <th>3</th>\n",
       "      <td>c</td>\n",
       "      <td>5</td>\n",
       "      <td>1</td>\n",
       "      <td>1</td>\n",
       "      <td>3.0</td>\n",
       "      <td>2022-11-13</td>\n",
       "      <td>4</td>\n",
       "    </tr>\n",
       "  </tbody>\n",
       "</table>\n",
       "</div>"
      ],
      "text/plain": [
       "  customer_name  last_active_time  frequency  created_date  billing_mean  \\\n",
       "0             a                 2          2             2           4.5   \n",
       "1             b                 3          1             1           5.5   \n",
       "2             b                 3          1             1           5.5   \n",
       "3             c                 5          1             1           3.0   \n",
       "\n",
       "  purchase_date  age  \n",
       "0    2022-11-18    2  \n",
       "1    2022-11-15    3  \n",
       "2    2022-11-15    3  \n",
       "3    2022-11-13    4  "
      ]
     },
     "execution_count": 235,
     "metadata": {},
     "output_type": "execute_result"
    }
   ],
   "source": [
    "df3=df_f.merge(account_lenght, on='customer_name',how='outer')#.merge(on='customer_name').merge(value, on='customer_name',how='outer')\n",
    "df3"
   ]
  },
  {
   "cell_type": "code",
   "execution_count": 236,
   "id": "eb1bd624",
   "metadata": {},
   "outputs": [
    {
     "data": {
      "text/plain": [
       "Index(['customer_name', 'last_active_time', 'frequency', 'created_date',\n",
       "       'billing_mean', 'purchase_date', 'age'],\n",
       "      dtype='object')"
      ]
     },
     "execution_count": 236,
     "metadata": {},
     "output_type": "execute_result"
    }
   ],
   "source": [
    "df3.columns"
   ]
  },
  {
   "cell_type": "code",
   "execution_count": 237,
   "id": "8d5f0482",
   "metadata": {},
   "outputs": [
    {
     "data": {
      "text/plain": [
       "pandas.core.series.Series"
      ]
     },
     "execution_count": 237,
     "metadata": {},
     "output_type": "execute_result"
    }
   ],
   "source": [
    "type(df3['customer_name'])#.unique()"
   ]
  },
  {
   "cell_type": "code",
   "execution_count": 238,
   "id": "ea8823f3",
   "metadata": {},
   "outputs": [
    {
     "data": {
      "text/plain": [
       "array([0, 1, 2], dtype=int8)"
      ]
     },
     "execution_count": 238,
     "metadata": {},
     "output_type": "execute_result"
    }
   ],
   "source": [
    "df3['customer_name_1']= df3['customer_name'].astype('category').cat.codes\n",
    "df3['customer_name_1'].unique()"
   ]
  },
  {
   "cell_type": "code",
   "execution_count": 239,
   "id": "f52e7da7",
   "metadata": {},
   "outputs": [],
   "source": [
    "df3=df3.drop(columns=['customer_name','customer_name_1','created_date','purchase_date'])"
   ]
  },
  {
   "cell_type": "code",
   "execution_count": 240,
   "id": "e38c06b3",
   "metadata": {},
   "outputs": [
    {
     "data": {
      "text/html": [
       "<div>\n",
       "<style scoped>\n",
       "    .dataframe tbody tr th:only-of-type {\n",
       "        vertical-align: middle;\n",
       "    }\n",
       "\n",
       "    .dataframe tbody tr th {\n",
       "        vertical-align: top;\n",
       "    }\n",
       "\n",
       "    .dataframe thead th {\n",
       "        text-align: right;\n",
       "    }\n",
       "</style>\n",
       "<table border=\"1\" class=\"dataframe\">\n",
       "  <thead>\n",
       "    <tr style=\"text-align: right;\">\n",
       "      <th></th>\n",
       "      <th>last_active_time</th>\n",
       "      <th>frequency</th>\n",
       "      <th>billing_mean</th>\n",
       "      <th>age</th>\n",
       "    </tr>\n",
       "  </thead>\n",
       "  <tbody>\n",
       "    <tr>\n",
       "      <th>0</th>\n",
       "      <td>2</td>\n",
       "      <td>2</td>\n",
       "      <td>4.5</td>\n",
       "      <td>2</td>\n",
       "    </tr>\n",
       "    <tr>\n",
       "      <th>1</th>\n",
       "      <td>3</td>\n",
       "      <td>1</td>\n",
       "      <td>5.5</td>\n",
       "      <td>3</td>\n",
       "    </tr>\n",
       "    <tr>\n",
       "      <th>2</th>\n",
       "      <td>3</td>\n",
       "      <td>1</td>\n",
       "      <td>5.5</td>\n",
       "      <td>3</td>\n",
       "    </tr>\n",
       "    <tr>\n",
       "      <th>3</th>\n",
       "      <td>5</td>\n",
       "      <td>1</td>\n",
       "      <td>3.0</td>\n",
       "      <td>4</td>\n",
       "    </tr>\n",
       "  </tbody>\n",
       "</table>\n",
       "</div>"
      ],
      "text/plain": [
       "   last_active_time  frequency  billing_mean  age\n",
       "0                 2          2           4.5    2\n",
       "1                 3          1           5.5    3\n",
       "2                 3          1           5.5    3\n",
       "3                 5          1           3.0    4"
      ]
     },
     "execution_count": 240,
     "metadata": {},
     "output_type": "execute_result"
    }
   ],
   "source": [
    "df3"
   ]
  },
  {
   "cell_type": "markdown",
   "id": "efaebd23",
   "metadata": {},
   "source": [
    "First approach"
   ]
  },
  {
   "cell_type": "code",
   "execution_count": 241,
   "id": "7ba62610",
   "metadata": {},
   "outputs": [
    {
     "name": "stderr",
     "output_type": "stream",
     "text": [
      "C:\\Users\\r.alghamdi\\AppData\\Local\\Temp\\ipykernel_11992\\2982779397.py:2: ConvergenceWarning: Number of distinct clusters (3) found smaller than n_clusters (4). Possibly due to duplicate points in X.\n",
      "  data=kmeans.fit(df3)\n"
     ]
    }
   ],
   "source": [
    "kmeans = KMeans(n_clusters=4)  # you can change the number of clusters basd on your data \n",
    "data=kmeans.fit(df3)\n",
    "df3['class']=data.labels_"
   ]
  },
  {
   "cell_type": "code",
   "execution_count": 242,
   "id": "7bc5101b",
   "metadata": {},
   "outputs": [
    {
     "data": {
      "text/plain": [
       "[2, 0, 0, 1]"
      ]
     },
     "execution_count": 242,
     "metadata": {},
     "output_type": "execute_result"
    }
   ],
   "source": [
    "import numpy as np\n",
    "y =([2, 0, 0, 1])\n",
    "y"
   ]
  },
  {
   "cell_type": "code",
   "execution_count": 243,
   "id": "421d1dde",
   "metadata": {},
   "outputs": [
    {
     "data": {
      "text/html": [
       "<div>\n",
       "<style scoped>\n",
       "    .dataframe tbody tr th:only-of-type {\n",
       "        vertical-align: middle;\n",
       "    }\n",
       "\n",
       "    .dataframe tbody tr th {\n",
       "        vertical-align: top;\n",
       "    }\n",
       "\n",
       "    .dataframe thead th {\n",
       "        text-align: right;\n",
       "    }\n",
       "</style>\n",
       "<table border=\"1\" class=\"dataframe\">\n",
       "  <thead>\n",
       "    <tr style=\"text-align: right;\">\n",
       "      <th></th>\n",
       "      <th>last_active_time</th>\n",
       "      <th>frequency</th>\n",
       "      <th>billing_mean</th>\n",
       "      <th>age</th>\n",
       "      <th>class</th>\n",
       "    </tr>\n",
       "  </thead>\n",
       "  <tbody>\n",
       "    <tr>\n",
       "      <th>0</th>\n",
       "      <td>2</td>\n",
       "      <td>2</td>\n",
       "      <td>4.5</td>\n",
       "      <td>2</td>\n",
       "      <td>2</td>\n",
       "    </tr>\n",
       "    <tr>\n",
       "      <th>1</th>\n",
       "      <td>3</td>\n",
       "      <td>1</td>\n",
       "      <td>5.5</td>\n",
       "      <td>3</td>\n",
       "      <td>0</td>\n",
       "    </tr>\n",
       "    <tr>\n",
       "      <th>2</th>\n",
       "      <td>3</td>\n",
       "      <td>1</td>\n",
       "      <td>5.5</td>\n",
       "      <td>3</td>\n",
       "      <td>0</td>\n",
       "    </tr>\n",
       "    <tr>\n",
       "      <th>3</th>\n",
       "      <td>5</td>\n",
       "      <td>1</td>\n",
       "      <td>3.0</td>\n",
       "      <td>4</td>\n",
       "      <td>1</td>\n",
       "    </tr>\n",
       "  </tbody>\n",
       "</table>\n",
       "</div>"
      ],
      "text/plain": [
       "   last_active_time  frequency  billing_mean  age  class\n",
       "0                 2          2           4.5    2      2\n",
       "1                 3          1           5.5    3      0\n",
       "2                 3          1           5.5    3      0\n",
       "3                 5          1           3.0    4      1"
      ]
     },
     "execution_count": 243,
     "metadata": {},
     "output_type": "execute_result"
    }
   ],
   "source": [
    "df3"
   ]
  },
  {
   "cell_type": "code",
   "execution_count": 244,
   "id": "46ada2b1",
   "metadata": {},
   "outputs": [
    {
     "data": {
      "image/png": "[encoded data removed]",
      "text/plain": [
       "<Figure size 540x540 with 1 Axes>"
      ]
     },
     "metadata": {
      "needs_background": "light"
     },
     "output_type": "display_data"
    }
   ],
   "source": [
    "from sklearn.metrics import confusion_matrix\n",
    "import matplotlib.pyplot as plt\n",
    "\n",
    "conf_matrix=confusion_matrix(y, data.labels_) \n",
    "\n",
    "fig, ax = plt.subplots(figsize=(7.5, 7.5))\n",
    "ax.matshow(conf_matrix, cmap=plt.cm.Blues, alpha=0.3)\n",
    "for i in range(conf_matrix.shape[0]):\n",
    "    for j in range(conf_matrix.shape[1]):\n",
    "        ax.text(x=j, y=i,s=conf_matrix[i, j], va='center', \n",
    "                ha='center', size='xx-large')\n",
    " \n",
    "plt.xlabel('Predictions', fontsize=18)\n",
    "plt.ylabel('Actuals', fontsize=18)\n",
    "plt.title('Confusion Matrix', fontsize=18)\n",
    "plt.show()"
   ]
  },
  {
   "cell_type": "markdown",
   "id": "577193de",
   "metadata": {},
   "source": [
    "Second Approach"
   ]
  },
  {
   "cell_type": "code",
   "execution_count": 245,
   "id": "af5eca62",
   "metadata": {},
   "outputs": [],
   "source": [
    "import pandas as pd \n",
    "import numpy as np\n",
    "# import matplotlib as plt\n",
    "import seaborn as sns\n",
    "import matplotlib.pyplot as plt\n",
    "import re\n",
    "from sklearn.model_selection import train_test_split\n",
    "from sklearn import metrics\n",
    "from sklearn.metrics import classification_report, confusion_matrix\n",
    "from sklearn.metrics import accuracy_score\n",
    "from sklearn.model_selection import cross_val_score\n",
    "from sklearn.metrics import precision_recall_curve\n",
    "from sklearn.metrics import average_precision_score\n",
    "from sklearn.metrics import roc_curve, roc_auc_score, auc\n",
    "from sklearn.ensemble import RandomForestClassifier\n",
    "from sklearn.model_selection import RandomizedSearchCV\n",
    "from sklearn.model_selection import GridSearchCV\n",
    "from scipy.stats import randint\n",
    "from sklearn.ensemble import ExtraTreesClassifier\n",
    "from sklearn.tree import export_graphviz\n",
    "from sklearn.ensemble import GradientBoostingClassifier\n",
    "from sklearn.feature_selection import RFE\n",
    "from sklearn.feature_selection import mutual_info_classif"
   ]
  },
  {
   "cell_type": "code",
   "execution_count": 246,
   "id": "728512a0",
   "metadata": {},
   "outputs": [
    {
     "data": {
      "image/png": "[encoded data removed]",
      "text/plain": [
       "<Figure size 2160x720 with 2 Axes>"
      ]
     },
     "metadata": {
      "needs_background": "light"
     },
     "output_type": "display_data"
    }
   ],
   "source": [
    "dfCorr = df3.corr()\n",
    "filteredDf = dfCorr[((dfCorr >= .7) & (dfCorr != 1)) ]\n",
    "plt.figure(figsize=(30,10))\n",
    "sns.heatmap(filteredDf, annot=True, cmap=\"Reds\")\n",
    "plt.show()"
   ]
  },
  {
   "cell_type": "code",
   "execution_count": 249,
   "id": "cdd7f11a",
   "metadata": {},
   "outputs": [
    {
     "name": "stdout",
     "output_type": "stream",
     "text": [
      "[0.406      0.22733333 0.36666667]\n"
     ]
    },
    {
     "data": {
      "image/png": "[encoded data removed]",
      "text/plain": [
       "<Figure size 432x288 with 1 Axes>"
      ]
     },
     "metadata": {
      "needs_background": "light"
     },
     "output_type": "display_data"
    },
    {
     "data": {
      "text/plain": [
       "<Figure size 5760x6480 with 0 Axes>"
      ]
     },
     "metadata": {},
     "output_type": "display_data"
    }
   ],
   "source": [
    "X = df3.iloc[:,0:3]  #independent columns\n",
    "y = df3.iloc[:,-1]    #target column \n",
    "from sklearn.ensemble import ExtraTreesClassifier\n",
    "model = ExtraTreesClassifier()\n",
    "model.fit(X,y)\n",
    "print(model.feature_importances_)\n",
    "#plot graph of feature importances \n",
    "feat_importances = pd.Series(model.feature_importances_, index=X.columns)\n",
    "feat_importances.nlargest(24).plot(kind='barh')\n",
    "plt.figure(figsize=(80,90))\n",
    "plt.show()"
   ]
  },
  {
   "cell_type": "code",
   "execution_count": 250,
   "id": "5b4acd8a",
   "metadata": {},
   "outputs": [],
   "source": [
    "#splitting the data (to use it on the building the model)\n",
    "y=df3['class']\n",
    "x=df3.drop('class',axis=1)\n",
    "x_train,x_test,y_train,y_test=train_test_split(x,y,test_size=0.3)"
   ]
  },
  {
   "cell_type": "code",
   "execution_count": 255,
   "id": "6021a9c0",
   "metadata": {},
   "outputs": [
    {
     "data": {
      "text/plain": [
       "2    0\n",
       "0    2\n",
       "Name: class, dtype: int32"
      ]
     },
     "execution_count": 255,
     "metadata": {},
     "output_type": "execute_result"
    }
   ],
   "source": [
    "y_train"
   ]
  },
  {
   "cell_type": "code",
   "execution_count": 256,
   "id": "41fec6b9",
   "metadata": {},
   "outputs": [
    {
     "data": {
      "text/plain": [
       "1    0\n",
       "3    1\n",
       "Name: class, dtype: int32"
      ]
     },
     "execution_count": 256,
     "metadata": {},
     "output_type": "execute_result"
    }
   ],
   "source": [
    "y_test"
   ]
  },
  {
   "cell_type": "code",
   "execution_count": 251,
   "id": "fa3f2bed",
   "metadata": {},
   "outputs": [
    {
     "name": "stdout",
     "output_type": "stream",
     "text": [
      "train [0 2]\n",
      "test [0 0]\n"
     ]
    }
   ],
   "source": [
    "model = GradientBoostingClassifier(n_estimators=10)\n",
    "model.fit(x_train, y_train)\n",
    "train_pred = model.predict(x_train)\n",
    "print('train',train_pred)     \n",
    "y_pred = model.predict(x_test)\n",
    "print('test',y_pred)"
   ]
  },
  {
   "cell_type": "code",
   "execution_count": 259,
   "id": "91b63986",
   "metadata": {},
   "outputs": [
    {
     "name": "stdout",
     "output_type": "stream",
     "text": [
      "50.0\n"
     ]
    }
   ],
   "source": [
    "from sklearn.metrics import accuracy_score\n",
    "\n",
    "(accuracy_score(y_test, y_pred))*100"
   ]
  },
  {
   "cell_type": "code",
   "execution_count": 252,
   "id": "1ba02ad3",
   "metadata": {},
   "outputs": [
    {
     "data": {
      "text/plain": [
       "Text(91.68, 0.5, 'predicted label')"
      ]
     },
     "execution_count": 252,
     "metadata": {},
     "output_type": "execute_result"
    },
    {
     "data": {
      "image/png": "[encoded data removed]",
      "text/plain": [
       "<Figure size 432x288 with 1 Axes>"
      ]
     },
     "metadata": {
      "needs_background": "light"
     },
     "output_type": "display_data"
    }
   ],
   "source": [
    "cm = confusion_matrix(y_test, y_pred)\n",
    "sns.heatmap(cm, square=True, annot=True, fmt='d', cbar=False)\n",
    "plt.xlabel('true label')\n",
    "plt.ylabel('predicted label')"
   ]
  },
  {
   "cell_type": "code",
   "execution_count": null,
   "id": "a56ca12d",
   "metadata": {},
   "outputs": [],
   "source": []
  },
  {
   "cell_type": "code",
   "execution_count": null,
   "id": "421902f0",
   "metadata": {},
   "outputs": [],
   "source": []
  },
  {
   "cell_type": "code",
   "execution_count": null,
   "id": "5be3186f",
   "metadata": {},
   "outputs": [],
   "source": []
  },
  {
   "cell_type": "code",
   "execution_count": null,
   "id": "abe2ad01",
   "metadata": {},
   "outputs": [],
   "source": []
  }
 ],
 "metadata": {
  "kernelspec": {
   "display_name": "Python 3 (ipykernel)",
   "language": "python",
   "name": "python3"
  },
  "language_info": {
   "codemirror_mode": {
    "name": "ipython",
    "version": 3
   },
   "file_extension": ".py",
   "mimetype": "text/x-python",
   "name": "python",
   "nbconvert_exporter": "python",
   "pygments_lexer": "ipython3",
   "version": "3.9.12"
  }
 },
 "nbformat": 4,
 "nbformat_minor": 5
}
